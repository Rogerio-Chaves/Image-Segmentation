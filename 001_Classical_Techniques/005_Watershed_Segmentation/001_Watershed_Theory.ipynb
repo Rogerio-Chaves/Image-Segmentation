{
 "cells": [
  {
   "cell_type": "markdown",
   "metadata": {},
   "source": [
    "# Watershed Segmentation\n",
    "\n",
    "Watershed segmentation is an image processing technique used in binary images to solve the problem of clustered or overlapped objects. It can be thought of as topographic surfaces, where high-density pixel values are hills and low-density pixel values are valleys. Now, imagine that every valley is filling with water, this way, the water level will be climbing, and the different valleys will be beginning to merge. The algorithm defines the watershed lines (barriers) that protect objects and prevent the merger. The filling process continues up to the top, and the watershed lines represent each object's edges [1].\n",
    "\n",
    "<center>Binary image.</center>\n",
    "<center><img src='images/pre_processing_example.png'></center>\n",
    "<center>Samuel Sung [1].</center>\n",
    "\n",
    "In the watershed, we need of three information: \n",
    "\n",
    "1) Sure background:\n",
    "\n",
    "From the binary image, the objects are labeled with one and the background with zero, but in some images, the threshold can be imperfect. For this reason, the dilatation operation (Appendix A in the classical techniques) is used to cover more ground [1].\n",
    "\n",
    "<center>Sure background.</center>\n",
    "<center><img src='images/sure_background.png'></center>\n",
    "<center>Samuel Sung [1].</center>\n",
    "\n",
    "2) Sure foreground:\n",
    "\n",
    "We can find the foreground with erosion (Appendix A in the classical techniques) or distance map. However, erosion can destroy essential information on small objects. So, the distance map is a good alternative to find the foreground of the image. In a brief explanation, every object (1 in a binary image) is reassigned to a value equal to the distance between it and the image background (0 in a binary image) [1].\n",
    "\n",
    "The distance is calculated with the euclidian distance.\n",
    "\n",
    "$$ d(p_{1}, p_{2}) = \\sqrt{(x_{1} - x_{2})^{2} + (y_{1} - y_{2})^{2}} $$\n",
    "\n",
    "<center>Distance Map</center>\n",
    "<center><img src='images/distance_map_01.png'></center>\n",
    "<center>Samuel Sung [1].</center>\n",
    "\n",
    "\n",
    "3) Unsure region.\n",
    "\n",
    "$$ unsure\\ region = sure\\ background - sure\\ foreground $$\n",
    "\n",
    "\n",
    "Markers:\n",
    "\n",
    "SEÇÃO PENDENTE"
   ]
  },
  {
   "cell_type": "markdown",
   "metadata": {},
   "source": [
    "## References:\n",
    "\n",
    "[1] Sung, S. (2021). Watershed Segmentation – detect individual objects when heavily clustered. Medium. https://medium.com/codex/watershed-segmentation-locate-individual-objects-when-heavily-clustered-b07bb1dbc0f6"
   ]
  }
 ],
 "metadata": {
  "kernelspec": {
   "display_name": "Python 3.10.6 64-bit",
   "language": "python",
   "name": "python3"
  },
  "language_info": {
   "codemirror_mode": {
    "name": "ipython",
    "version": 3
   },
   "file_extension": ".py",
   "mimetype": "text/x-python",
   "name": "python",
   "nbconvert_exporter": "python",
   "pygments_lexer": "ipython3",
   "version": "3.10.6"
  },
  "orig_nbformat": 4,
  "vscode": {
   "interpreter": {
    "hash": "916dbcbb3f70747c44a77c7bcd40155683ae19c65e1c03b4aa3499c5328201f1"
   }
  }
 },
 "nbformat": 4,
 "nbformat_minor": 2
}
