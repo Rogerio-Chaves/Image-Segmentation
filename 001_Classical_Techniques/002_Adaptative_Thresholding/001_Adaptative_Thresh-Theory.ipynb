{
 "cells": [
  {
   "cell_type": "markdown",
   "metadata": {},
   "source": [
    "# Adaptative thresholding\n",
    "\n",
    "\n",
    "Adaptative thresholding is method instead of use a fixed threshold value in each pixel of image use a different thershold value for each region of image (eacg region has a fixed threshold value). This method enables us to solve the brightness problem.\n",
    "\n",
    "The type of adaptative thresholding are:\n",
    "\n",
    "- Mean;\n",
    "\n",
    "- Gaussian."
   ]
  },
  {
   "cell_type": "markdown",
   "metadata": {},
   "source": [
    "#### Adaptative thresholding - Mean\n",
    "\n",
    "The threshold is the mean of the neighborhood area, that is, given the defined block size, the threshold value is:\n",
    "\n",
    " adaptative theshold =$ \\frac{\\sum_{i=1}^{h}{\\sum_{j=1}^{w}{x_{ij}}}}{h* w} - c $"
   ]
  },
  {
   "cell_type": "markdown",
   "metadata": {},
   "source": [
    "#### Adaptative thresholding - Gaussian\n",
    "\n",
    "The threshold is the weighted mean of the neighborhood area where the weights are the gaussian window."
   ]
  }
 ],
 "metadata": {
  "kernelspec": {
   "display_name": "Python 3 (ipykernel)",
   "language": "python",
   "name": "python3"
  },
  "language_info": {
   "codemirror_mode": {
    "name": "ipython",
    "version": 3
   },
   "file_extension": ".py",
   "mimetype": "text/x-python",
   "name": "python",
   "nbconvert_exporter": "python",
   "pygments_lexer": "ipython3",
   "version": "3.10.6"
  },
  "vscode": {
   "interpreter": {
    "hash": "916dbcbb3f70747c44a77c7bcd40155683ae19c65e1c03b4aa3499c5328201f1"
   }
  }
 },
 "nbformat": 4,
 "nbformat_minor": 2
}
