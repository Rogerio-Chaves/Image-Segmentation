{
 "cells": [
  {
   "cell_type": "markdown",
   "metadata": {},
   "source": [
    "# Color-Based Segmentation - Introduction"
   ]
  },
  {
   "cell_type": "markdown",
   "metadata": {},
   "source": [
    "Color-based segmentation is a technique that obtains objects based on color tone, that is, the color range (minimum and maximum) of the object (or objects). By example, given the magic cube image:\n",
    "\n",
    "<center><img src='images/magic_cube_example.png'><img src='images/color_segmentation_example_01.png'><img src='images/color_segmentation_example_02.png'></center>\n",
    "\n",
    "The example above was done with the RGB color system, with the minimum value (0, 10, 90) and the maximum value (40, 180, 255). So, any colors within this range will be extracted, which corresponds to the blue objects. However, the RGB color system does not the better color system to get color-based segmentation, the HSV is most recommended."
   ]
  }
 ],
 "metadata": {
  "kernelspec": {
   "display_name": "Python 3.10.6 64-bit",
   "language": "python",
   "name": "python3"
  },
  "language_info": {
   "codemirror_mode": {
    "name": "ipython",
    "version": 3
   },
   "file_extension": ".py",
   "mimetype": "text/x-python",
   "name": "python",
   "nbconvert_exporter": "python",
   "pygments_lexer": "ipython3",
   "version": "3.10.6"
  },
  "orig_nbformat": 4,
  "vscode": {
   "interpreter": {
    "hash": "916dbcbb3f70747c44a77c7bcd40155683ae19c65e1c03b4aa3499c5328201f1"
   }
  }
 },
 "nbformat": 4,
 "nbformat_minor": 2
}
