{
 "cells": [
  {
   "attachments": {},
   "cell_type": "markdown",
   "metadata": {},
   "source": [
    "# U-Net - Introduction"
   ]
  },
  {
   "attachments": {},
   "cell_type": "markdown",
   "metadata": {},
   "source": [
    "The U-Net is a convolutional network architecture for fast and precise image segmentation. This method has outperformed the prior-best method, which is the sliding-window convolutional network [1].\n",
    "\n",
    "It was developed for biomedical image segmentation at the Computer Science Department of the University of Freiburg [3]."
   ]
  },
  {
   "attachments": {},
   "cell_type": "markdown",
   "metadata": {},
   "source": [
    "## The Architecture:\n",
    "\n",
    "The Architecture\n",
    "\n",
    "<img src=\"images/u-net_architecture.png\">\n",
    "\n",
    "Ronneberger, O., Fischer, P., & Brox, T.  [2]"
   ]
  },
  {
   "attachments": {},
   "cell_type": "markdown",
   "metadata": {},
   "source": [
    "## References:\n",
    "\n",
    "[1] Disclaimer, Datenschutz. (2022). U-Net: Convolutional Networks for Biomedical Image Segmentation. (n.d.). https://lmb.informatik.uni-freiburg.de/people/ronneber/u-net/.\n",
    "\n",
    "[2] Ronneberger, O., Fischer, P., & Brox, T. (2015). U-Net: Convolutional Networks for Biomedical Image Segmentation. Lecture Notes in Computer Science, 234–241. https://doi.org/10.1007/978-3-319-24574-4_28.\n",
    "\n",
    "[3] Wikipedia contributors. (2022, September 8). U-Net. Wikipedia. https://en.wikipedia.org/wiki/U-Net."
   ]
  }
 ],
 "metadata": {
  "language_info": {
   "name": "python"
  },
  "orig_nbformat": 4
 },
 "nbformat": 4,
 "nbformat_minor": 2
}
