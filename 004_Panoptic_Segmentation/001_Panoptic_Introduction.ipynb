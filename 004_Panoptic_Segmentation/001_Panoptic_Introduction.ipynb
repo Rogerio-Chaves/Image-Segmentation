{
 "cells": [
  {
   "attachments": {},
   "cell_type": "markdown",
   "metadata": {},
   "source": [
    "# Panoptic Segmentation  - Introduction"
   ]
  },
  {
   "attachments": {},
   "cell_type": "markdown",
   "metadata": {},
   "source": [
    "Panoptic segmentation presents a unified image segmentation approach where each pixel in a scene is assigned a semantic label (semantic segmentation) and a unique instance identifier (instance segmentation) [1].\n",
    "\n",
    "\n",
    "\"The <b>panopticon</b> is a type of institutional building and a system of control designed by the English philosopher and social theorist Jeremy Bentham in the 18th century. The concept of the design is to allow all prisoners of an institution to be observed by a single security guard, without the inmates being able to tell whether they are being watched\" [2].\n",
    "\n",
    "<center><img src=\"images/panopticon.jpg\"></center>"
   ]
  },
  {
   "attachments": {},
   "cell_type": "markdown",
   "metadata": {},
   "source": [
    "## References:\n",
    "\n",
    "[1] Kookna, V. (2022, June 24). Semantic vs. Instance vs. Panoptic Segmentation. PyImageSearch. https://pyimagesearch.com/2022/06/29/semantic-vs-instance-vs-panoptic-segmentation/\n",
    "\n",
    "[2] Wikipedia contributors. (2022b, December 19). Panopticon. Wikipedia. https://en.wikipedia.org/wiki/Panopticon"
   ]
  },
  {
   "cell_type": "markdown",
   "metadata": {},
   "source": []
  }
 ],
 "metadata": {
  "language_info": {
   "name": "python"
  },
  "orig_nbformat": 4
 },
 "nbformat": 4,
 "nbformat_minor": 2
}
